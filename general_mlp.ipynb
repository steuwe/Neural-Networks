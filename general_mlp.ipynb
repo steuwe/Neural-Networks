{
 "cells": [
  {
   "cell_type": "markdown",
   "id": "03fea0b0",
   "metadata": {},
   "source": [
    "# Multilayer Perceptron\n",
    "## Implemented from scratch using numpy"
   ]
  },
  {
   "cell_type": "code",
   "execution_count": 1,
   "id": "8883949f",
   "metadata": {},
   "outputs": [],
   "source": [
    "import numpy as np\n",
    "import matplotlib.pyplot as plt\n",
    "import collections.abc\n",
    "import pdb"
   ]
  },
  {
   "cell_type": "markdown",
   "id": "91476887",
   "metadata": {},
   "source": [
    "### Some activation functions"
   ]
  },
  {
   "cell_type": "code",
   "execution_count": 9,
   "id": "3d96add8",
   "metadata": {},
   "outputs": [],
   "source": [
    "def softplus(z):\n",
    "    return np.log(1+np.exp(z))\n",
    "\n",
    "def softmax(x):\n",
    "    return np.exp(x) / np.sum(np.exp(x))\n",
    "\n",
    "# requires outputs and ground truth\n",
    "def der_softmax(x, gt):\n",
    "    return x-gt\n",
    "    \n",
    "def relu(x):\n",
    "    return np.where(x > 0, x, 0)\n",
    "\n",
    "def der_relu(x):\n",
    "    return np.where(x > 0, 1, 0)\n",
    "\n",
    "def fermi(x):\n",
    "    return 1 / (1 + np.exp(-x))\n",
    "\n",
    "def der_fermi(x):\n",
    "    return fermi(x)*(1-fermi(x))\n",
    "\n",
    "def linear(x):\n",
    "    return x\n",
    "\n",
    "def der_linear(x):\n",
    "    return 1"
   ]
  },
  {
   "cell_type": "markdown",
   "id": "d0e9c562",
   "metadata": {},
   "source": [
    "### Network class"
   ]
  },
  {
   "cell_type": "code",
   "execution_count": 3,
   "id": "c23ffbc9",
   "metadata": {},
   "outputs": [],
   "source": [
    "class Network:\n",
    "\n",
    "    def __init__(self, input_neurons, hidden_neurons, output_neurons, activation, derivative, act_out, der_out, classification):\n",
    "        layers = []\n",
    "        biases = []\n",
    "        for i in range(len(hidden_neurons)):\n",
    "            if i == 0:\n",
    "                if input_neurons == 1:\n",
    "                    layers.append(np.random.rand(hidden_neurons[i])*2-1)\n",
    "\n",
    "                else:\n",
    "                    layers.append(np.random.rand(input_neurons, hidden_neurons[i])*2-1)\n",
    "            else:\n",
    "                layers.append(np.random.rand(hidden_neurons[i-1], hidden_neurons[i])*2-1)\n",
    "            biases.append(np.random.rand(hidden_neurons[i])*2-1)\n",
    "\n",
    "        layers.append(np.random.rand(hidden_neurons[-1], output_neurons)*2-1)\n",
    "        biases.append(np.random.rand(output_neurons))\n",
    "        self.create_network(layers, biases, activation, derivative, act_out, der_out, classification)\n",
    "\n",
    "    def create_network(self, layers, bias, activation_hidden, derivative_hidden, activation_out, derivative_out, classification):\n",
    "        self.input = None\n",
    "        self.output = None\n",
    "        self.ground_truth = None\n",
    "        self.classification = classification\n",
    "        self.layers = layers\n",
    "        self.bias = bias\n",
    "        self.outs = []\n",
    "        self.deltas = []\n",
    "        self.diffs = []\n",
    "        self.diffs_bias = []\n",
    "        self.nets = []\n",
    "        self.act = activation_hidden\n",
    "        self.der = derivative_hidden\n",
    "        self.act_out = activation_out\n",
    "        self.der_out = derivative_out\n",
    "        self.errors = []\n",
    "\n",
    "    def update_weights(self):\n",
    "        for index, layer in enumerate(self.layers):\n",
    "            self.layers[index] = self.layers[index] + np.array(self.diffs[-1-index], dtype=object).reshape(layer.shape)  \n",
    "        for index, (bias, diff) in enumerate(zip(self.bias, np.flip(self.diffs_bias, 0))):\n",
    "            self.bias[index] = self.bias[index] + np.array(diff, dtype=object).reshape(bias.shape)        \n",
    "            \n",
    "    # loss for regression\n",
    "    def reg_loss(self, y_hat, y):\n",
    "        return y_hat - y\n",
    "        \n",
    "    # cross entropy for classification\n",
    "    def cross_entropy(self, y_hat, y):\n",
    "        return np.sum(np.where(y_hat == 1, -np.log(y), 0))\n",
    "        \n",
    "        \n",
    "    def forward(self, x, ground_truth):\n",
    "        self.outs = []\n",
    "        self.input = x\n",
    "        self.ground_truth = ground_truth\n",
    "        output_last_layer = x\n",
    "        if np.isscalar(x):\n",
    "            self.outs.append([x])\n",
    "        else:\n",
    "            self.outs.append(x)\n",
    "        self.nets = []\n",
    "        # Calculate and save outputs from hidden layers\n",
    "        for index, (layer, bias) in enumerate(zip(self.layers, self.bias)):\n",
    "            net_h = np.dot(output_last_layer, layer) + bias\n",
    "            self.nets.append(net_h)\n",
    "            out = (np.dot(output_last_layer, layer) + bias)\n",
    "            output = self.act((out).astype(float))\n",
    "            self.outs.append(output.flatten())\n",
    "            output_last_layer = self.act_out(output)\n",
    "        self.output = output_last_layer\n",
    "        return self.output\n",
    "   \n",
    "    def backward(self):\n",
    "        # Get relevant values for backprop from class attributes\n",
    "        y_hat = self.ground_truth\n",
    "        y = self.output\n",
    "        lr = self.lr\n",
    "        self.diffs = []\n",
    "        self.diffs_bias = []\n",
    "        self.deltas = []\n",
    "        # Calculate delta for output neuron(s);\n",
    "        if self.classification:\n",
    "            delta_m = -self.loss(y_hat, y) * self.der_out(y.astype(float), y_hat)\n",
    "        else:\n",
    "            delta_m = self.loss(y_hat, y) * self.der_out(self.nets[-1].astype(float))\n",
    "        # Apply delta rule to output layer\n",
    "        self.deltas.append(delta_m)\n",
    "        self.diffs.append(lr * np.outer(self.outs[-2], delta_m))\n",
    "        self.diffs_bias.append(lr * delta_m)\n",
    "        # Apply delta rule to hidden layers\n",
    "        for index in range(len(self.layers[:-1])):\n",
    "            delta_h = []\n",
    "            diffs_layer = []\n",
    "            diffs_bias = []\n",
    "            # Calculate deltas from next layer\n",
    "            for n, neuron in enumerate(self.layers[-index-1]):\n",
    "                net_n = self.nets[-index-2].flatten()[n]\n",
    "                delta_h.append(np.dot(self.deltas[-1], neuron) * self.der(net_n))\n",
    "            self.deltas.append(delta_h)\n",
    "            for n, neuron in enumerate(self.layers[-index-2]):\n",
    "                diffs = []\n",
    "                if len(self.layers[-index-2].shape) > 1:\n",
    "                    for w, weight in enumerate(neuron):\n",
    "                        diffs.append(np.dot(np.dot(lr, delta_h[w].item()), (self.outs[-index-3][n])))\n",
    "                else:\n",
    "                    diffs = np.dot(np.dot(lr, delta_h[n]), self.outs[-index-3])\n",
    "                diffs_layer.append(diffs)\n",
    "            self.diffs_bias.append(np.dot(lr, delta_h))\n",
    "            self.diffs.append(diffs_layer)\n",
    "            \n",
    "            \n",
    "    def train(self, lr, epochs, error_epochs, inputs, gt):\n",
    "        self.lr = lr\n",
    "        if not self.classification:\n",
    "            self.loss = self.reg_loss\n",
    "        else:\n",
    "            self.loss = self.cross_entropy\n",
    "        indices = np.arange(len(inputs))\n",
    "        for epoch in range(epochs):\n",
    "            if epoch % 10 == 0:\n",
    "                print(\"Epoch: \" + str(epoch))\n",
    "            np.random.shuffle(indices)\n",
    "            for index in indices:\n",
    "                output = self.forward(inputs[index], gt[index])\n",
    "                self.backward()\n",
    "                self.update_weights()\n",
    "            if epoch % error_epochs == 0:\n",
    "                outputs = [self.forward(x, y) for (x,y) in zip(inputs, gt)]\n",
    "                error = np.array([self.loss(y_hat, y) for (y, y_hat) in zip(outputs, gt)], dtype=object)\n",
    "                self.errors.append(np.mean(error))"
   ]
  },
  {
   "cell_type": "markdown",
   "id": "fd1988af",
   "metadata": {},
   "source": [
    "### Function to instantiate network"
   ]
  },
  {
   "cell_type": "code",
   "execution_count": 4,
   "id": "f56bb69f",
   "metadata": {},
   "outputs": [],
   "source": [
    "def create_network(input_neurons, hidden_neurons, output_neurons, activation, derivative, act_out, der_out, classification):\n",
    "    layers = []\n",
    "    biases = []\n",
    "    for i in range(len(hidden_neurons)):\n",
    "        if i == 0:\n",
    "            if input_neurons == 1:\n",
    "                layers.append(np.random.rand(hidden_neurons[i])*2-1)\n",
    "\n",
    "            else:\n",
    "                layers.append(np.random.rand(input_neurons, hidden_neurons[i])*2-1)\n",
    "        else:\n",
    "            layers.append(np.random.rand(hidden_neurons[i-1], hidden_neurons[i])*2-1)\n",
    "        biases.append(np.random.rand(hidden_neurons[i])*2-1)\n",
    "\n",
    "    layers.append(np.random.rand(hidden_neurons[-1], output_neurons)*2-1)\n",
    "    biases.append(np.random.rand(output_neurons))\n",
    "    #net = Network(np.array(layers, dtype=object), biases, activation, derivative)\n",
    "    net = Network(layers, biases, activation, derivative, act_out, der_out, classification)\n",
    "    return net"
   ]
  },
  {
   "cell_type": "markdown",
   "id": "c137b01a",
   "metadata": {},
   "source": [
    "## Example for regression on a random quadratic function"
   ]
  },
  {
   "cell_type": "code",
   "execution_count": 5,
   "id": "a13f885f",
   "metadata": {},
   "outputs": [],
   "source": [
    "def f(x):\n",
    "    return 0.2*x**2 - 0.5*x + 1.0"
   ]
  },
  {
   "cell_type": "code",
   "execution_count": 6,
   "id": "179b7c82",
   "metadata": {},
   "outputs": [],
   "source": [
    "from sklearn import preprocessing\n",
    "\n",
    "min_max_scaler = preprocessing.MinMaxScaler(feature_range=(0,10))\n",
    "\n",
    "data_x = np.linspace(-500, 500, 1000)\n",
    "data_y = f(data_x)\n",
    "# normalize data\n",
    "transformed_data = min_max_scaler.fit_transform(np.array([data_x, data_y]).transpose())\n",
    "\n",
    "data_x = transformed_data[:,0]\n",
    "data_y = transformed_data[:,1]\n",
    "\n",
    "train_indices = np.sort(np.random.choice(1000, replace=False, size=800))\n",
    "test_indices = np.sort(np.array([x for x in range(1000) if x not in train_indices]))\n",
    "x_train = data_x[train_indices]\n",
    "y_train = data_y[train_indices]\n",
    "\n",
    "x_test = data_x[test_indices]\n",
    "y_test = data_y[test_indices]"
   ]
  },
  {
   "cell_type": "code",
   "execution_count": 7,
   "id": "7a714ab5",
   "metadata": {},
   "outputs": [
    {
     "data": {
      "image/png": "[encoded data removed]",
      "text/plain": [
       "<Figure size 432x288 with 1 Axes>"
      ]
     },
     "metadata": {
      "needs_background": "light"
     },
     "output_type": "display_data"
    }
   ],
   "source": [
    "plt.plot(data_x, data_y)\n",
    "plt.xlabel('x')\n",
    "plt.ylabel('y')\n",
    "plt.show()"
   ]
  },
  {
   "cell_type": "code",
   "execution_count": 44,
   "id": "4afc856d",
   "metadata": {
    "scrolled": true
   },
   "outputs": [
    {
     "name": "stdout",
     "output_type": "stream",
     "text": [
      "Epoch: 0\n"
     ]
    },
    {
     "name": "stderr",
     "output_type": "stream",
     "text": [
      "C:\\Users\\simon\\anaconda3\\lib\\site-packages\\numpy\\core\\_asarray.py:102: VisibleDeprecationWarning: Creating an ndarray from ragged nested sequences (which is a list-or-tuple of lists-or-tuples-or ndarrays with different lengths or shapes) is deprecated. If you meant to do this, you must specify 'dtype=object' when creating the ndarray.\n",
      "  return array(a, dtype, copy=False, order=order)\n"
     ]
    },
    {
     "name": "stdout",
     "output_type": "stream",
     "text": [
      "Epoch: 10\n",
      "Epoch: 20\n",
      "Epoch: 30\n",
      "Epoch: 40\n",
      "Epoch: 50\n",
      "Epoch: 60\n",
      "Epoch: 70\n",
      "Epoch: 80\n",
      "Epoch: 90\n"
     ]
    }
   ],
   "source": [
    "lr = 0.001\n",
    "epochs = 100\n",
    "error_epochs = 1\n",
    "\n",
    "#network = Network(1, [2], 1, softplus, fermi, linear, der_linear, classification=False)\n",
    "network = Network(1, [16], 1, relu, der_relu, linear, der_linear, classification=False)\n",
    "network.train(lr, epochs, error_epochs, x_train, y_train)"
   ]
  },
  {
   "cell_type": "code",
   "execution_count": 45,
   "id": "d6147373",
   "metadata": {},
   "outputs": [
    {
     "name": "stdout",
     "output_type": "stream",
     "text": [
      "Training Error\n"
     ]
    },
    {
     "data": {
      "image/png": "[encoded data removed]",
      "text/plain": [
       "<Figure size 432x288 with 1 Axes>"
      ]
     },
     "metadata": {
      "needs_background": "light"
     },
     "output_type": "display_data"
    },
    {
     "name": "stdout",
     "output_type": "stream",
     "text": [
      "Output\n"
     ]
    },
    {
     "data": {
      "image/png": "[encoded data removed]",
      "text/plain": [
       "<Figure size 432x288 with 1 Axes>"
      ]
     },
     "metadata": {
      "needs_background": "light"
     },
     "output_type": "display_data"
    }
   ],
   "source": [
    "net_output = [network.forward(x, y) for (x,y) in zip(x_test, y_test)]\n",
    "\n",
    "print(\"Training Error\")\n",
    "plt.plot(np.arange(len(network.errors)), network.errors)\n",
    "plt.xlabel(\"Time\")\n",
    "plt.ylabel(\"Error\")\n",
    "plt.show()\n",
    "\n",
    "print(\"Output\")\n",
    "plt.plot(x_test, y_test, label='ground truth')\n",
    "plt.plot(x_test, net_output, label='output')\n",
    "plt.xlabel('x')\n",
    "plt.ylabel('y')\n",
    "plt.legend()\n",
    "plt.show()"
   ]
  },
  {
   "cell_type": "markdown",
   "id": "6a1f9f3e",
   "metadata": {},
   "source": [
    "## Example for classification using iris flower dataset"
   ]
  },
  {
   "cell_type": "code",
   "execution_count": 46,
   "id": "78eedade",
   "metadata": {},
   "outputs": [],
   "source": [
    "import matplotlib.pyplot as plt\n",
    "from sklearn import datasets\n",
    "from sklearn.model_selection import train_test_split\n",
    "\n",
    "lb = preprocessing.LabelBinarizer()\n",
    "\n",
    "# import data\n",
    "iris = datasets.load_iris()\n",
    "\n",
    "# 150 samples with 4 features and 3 total categories\n",
    "X = iris.data\n",
    "y = iris.target\n",
    "# transform labels into label vectors for neural network\n",
    "y = lb.fit_transform(y)\n",
    "\n",
    "X_train, X_test, y_train, y_test = train_test_split(X, y, test_size=0.33)"
   ]
  },
  {
   "cell_type": "code",
   "execution_count": 69,
   "id": "297449d3",
   "metadata": {},
   "outputs": [
    {
     "name": "stdout",
     "output_type": "stream",
     "text": [
      "Epoch: 0\n"
     ]
    },
    {
     "name": "stderr",
     "output_type": "stream",
     "text": [
      "C:\\Users\\simon\\anaconda3\\lib\\site-packages\\numpy\\core\\_asarray.py:102: VisibleDeprecationWarning: Creating an ndarray from ragged nested sequences (which is a list-or-tuple of lists-or-tuples-or ndarrays with different lengths or shapes) is deprecated. If you meant to do this, you must specify 'dtype=object' when creating the ndarray.\n",
      "  return array(a, dtype, copy=False, order=order)\n"
     ]
    },
    {
     "name": "stdout",
     "output_type": "stream",
     "text": [
      "Epoch: 10\n",
      "Epoch: 20\n",
      "Epoch: 30\n",
      "Epoch: 40\n",
      "Epoch: 50\n",
      "Epoch: 60\n",
      "Epoch: 70\n",
      "Epoch: 80\n",
      "Epoch: 90\n"
     ]
    }
   ],
   "source": [
    "lr = 0.005\n",
    "epochs = 100\n",
    "error_epochs = 10\n",
    "\n",
    "np.seterr('raise')\n",
    "\n",
    "network = Network(4, [16], 3, softplus, fermi, softmax, der_softmax, classification=True)\n",
    "#network = Network(4, [8], 3, relu, der_relu, softmax, der_softmax, classification=True)\n",
    "network.train(lr, epochs, error_epochs, X_train, y_train)"
   ]
  },
  {
   "cell_type": "code",
   "execution_count": 70,
   "id": "363143ee",
   "metadata": {},
   "outputs": [
    {
     "name": "stdout",
     "output_type": "stream",
     "text": [
      "Accuracy: 0.94\n"
     ]
    },
    {
     "data": {
      "image/png": "[encoded data removed]",
      "text/plain": [
       "<Figure size 432x288 with 1 Axes>"
      ]
     },
     "metadata": {
      "needs_background": "light"
     },
     "output_type": "display_data"
    }
   ],
   "source": [
    "net_output = [network.forward(x, y) for (x,y) in zip(X_test, y_test)]\n",
    "\n",
    "net_output = np.argmax(net_output, axis=1)\n",
    "y_labels = np.argmax(y_test, axis=1)\n",
    "\n",
    "correct = net_output == y_labels\n",
    "accuracy = np.sum(correct) / len(y_labels)\n",
    "print(\"Accuracy: \" + str(accuracy))\n",
    "\n",
    "plt.plot(np.arange(len(network.errors)), network.errors)\n",
    "plt.xlabel(\"Time\")\n",
    "plt.ylabel(\"Error\")\n",
    "plt.show()"
   ]
  }
 ],
 "metadata": {
  "kernelspec": {
   "display_name": "Python 3",
   "language": "python",
   "name": "python3"
  },
  "language_info": {
   "codemirror_mode": {
    "name": "ipython",
    "version": 3
   },
   "file_extension": ".py",
   "mimetype": "text/x-python",
   "name": "python",
   "nbconvert_exporter": "python",
   "pygments_lexer": "ipython3",
   "version": "3.7.6"
  }
 },
 "nbformat": 4,
 "nbformat_minor": 5
}
